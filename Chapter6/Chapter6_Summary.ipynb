{
 "cells": [
  {
   "cell_type": "code",
   "execution_count": null,
   "metadata": {},
   "outputs": [],
   "source": [
    "#Refernce to these code is: https://github.com/deep-learning-with-pytorch/dlwpt-code"
   ]
  },
  {
   "cell_type": "code",
   "execution_count": 1,
   "metadata": {},
   "outputs": [],
   "source": [
    "import torch.nn as nn\n",
    "import torch\n",
    "from matplotlib import pyplot as plt\n",
    "%matplotlib inline\n",
    "import numpy as np\n",
    "import torch\n",
    "import torch.optim as optim\n",
    "from collections import OrderedDict"
   ]
  },
  {
   "cell_type": "markdown",
   "metadata": {},
   "source": [
    "<h2>Chapter 6: Using a neural network to fit the data:</h2>\n",
    "    <ul>\n",
    "        <li> They key difference bwteen linear models and non linear models are non linear activation functions </li>\n",
    "        <li> Working with PyTorch’s nn module </li>\n",
    "        <li> Solving a linear-fit problem with a neural networkWorking with PyTorch’s nn module </li>\n",
    "    </ul>"
   ]
  },
  {
   "cell_type": "markdown",
   "metadata": {},
   "source": [
    "<h2>Overview:</h2>\n",
    "<ul>\n",
    "    <li> This chapter starts with explanation about <b> Artificial Neuron Networks </b>. </li>\n",
    "    <li> An important difference between linear model and deep learning model is the shape of the error function. linear model has a convex error curve with a singular, clearly defined minimum. </li>\n",
    "    <li> Neural networks do not have the same property of a convex error surface, even when using the same error-squared loss function! There’s no single right answer for each parameter we are attempting to approximate.</li>\n",
    "    <li> Learning for neural network means specializing a <span style='background-color:#FFFF00;'>  generic model </span> to a task using examples, because the model wasn’t built with that specific task in mind describing how that task worked were encoded in the model. </li>\n",
    "</ul>"
   ]
  },
  {
   "cell_type": "markdown",
   "metadata": {},
   "source": [
    "<h3>Dataset:</h3>\n",
    "<ul>\n",
    "    <li> We use previous chapters dataset. 11 datapoints are gathered by making note of temperature data in old celcius (t_c). \n",
    "    And measurement from new thermometer (t_u) </li>\n",
    "    <li><span style=\"color:Tomato;\"><b>Note:</b></span> Simple sequential neural network model is compared with simple linear model here.</li>\n",
    "</ul>\n",
    "    "
   ]
  },
  {
   "cell_type": "markdown",
   "metadata": {},
   "source": [
    "<h3> Activation Function is the difference between linear and NN model. Why is that the case? </h3>\n",
    "<ul> We need activation function for two reasons, more explained in this <a href='https://stanford.edu/~shervine/teaching/cs-229/cheatsheet-deep-learning'> link </a>:\n",
    "<li>In the inner parts of the model, it allows the output function to have different\n",
    "    slopes at different values. something a linear function by definition cannot do. </li>\n",
    "<li> At the last layer of the network, it has the role of concentrating the outputs of\n",
    "    the preceding linear operation into a given range.</li>\n",
    "</ul>  \n",
    "Common activation functions are (Tanh, Softplus, Hardtanh, Sigmoid, ReLU, LeakyReLU)"
   ]
  },
  {
   "cell_type": "markdown",
   "metadata": {},
   "source": [
    "<h2> Lets get data from previous chapter </h2>\n",
    "\n",
    "We get temperature data in good old Celsius and measurements from our new thermometer, and create models."
   ]
  },
  {
   "cell_type": "code",
   "execution_count": 2,
   "metadata": {},
   "outputs": [],
   "source": [
    "# t_c are values in celsius\n",
    "# t_u are values in unknown unit\n",
    "\n",
    "t_c = [0.5,  14.0, 15.0, 28.0, 11.0,  8.0,  3.0, -4.0,  6.0, 13.0, 21.0]\n",
    "t_u = [35.7, 55.9, 58.2, 81.9, 56.3, 48.9, 33.9, 21.8, 48.4, 60.4, 68.4]\n",
    "\n",
    "\n",
    "# We reshape our B inputs to B × Nin, where Nin is 1. That is easily done with unsqueeze:\n",
    "t_c = torch.tensor(t_c).unsqueeze(1) \n",
    "t_u = torch.tensor(t_u).unsqueeze(1)\n",
    "\n",
    "n_samples = t_u.shape[0]\n",
    "n_val = int(0.2 * n_samples)\n",
    "\n",
    "shuffled_indices = torch.randperm(n_samples)\n",
    "\n",
    "# define indices to divide train and val set\n",
    "train_indices = shuffled_indices[:-n_val]\n",
    "val_indices = shuffled_indices[-n_val:]\n",
    "\n",
    "t_u_train = t_u[train_indices]\n",
    "t_c_train = t_c[train_indices]\n",
    "\n",
    "t_u_val = t_u[val_indices]\n",
    "t_c_val = t_c[val_indices]\n",
    "\n",
    "#normalized unknown values of train and validation\n",
    "t_un_train = 0.1 * t_u_train\n",
    "t_un_val = 0.1 * t_u_val\n"
   ]
  },
  {
   "cell_type": "markdown",
   "metadata": {},
   "source": [
    "<span style='background-color:#FFFF00;'> A PyTorch has a module dedicated for NN called torch.nn </span> . It is a Python class deriving from the nn.Module base class.'A PyTorch has a module dedicated for NN\n",
    "called torch.nn. It is a Python class deriving from the nn.Module base class. Any module in nn is written to produce outputs for a batch of multiple inputs at the\n",
    "same time. Assuming we need to run nn.Linear on 10 samples, we can create an\n",
    "input tensor of size B × Nin, where B is the size of the batch and Nin is the number of\n",
    "input features as follow:"
   ]
  },
  {
   "cell_type": "code",
   "execution_count": 3,
   "metadata": {},
   "outputs": [
    {
     "name": "stdout",
     "output_type": "stream",
     "text": [
      "tensor([[-0.8193],\n",
      "        [-0.9060]], grad_fn=<AddmmBackward0>)\n",
      "linear model weight are\n",
      " Parameter containing:\n",
      "tensor([[-0.0444]], requires_grad=True)\n",
      "----------\n",
      "linear model bias are\n",
      "  Parameter containing:\n",
      "tensor([-0.6021], requires_grad=True)\n"
     ]
    }
   ],
   "source": [
    "linear_model = nn.Linear(1, 1)\n",
    "\n",
    "print(linear_model(t_un_val))\n",
    "\n",
    "print(\"linear model weight are\\n\", linear_model.weight)\n",
    "print(\"----------\")\n",
    "print(\"linear model bias are\\n \", linear_model.bias)"
   ]
  },
  {
   "cell_type": "code",
   "execution_count": 34,
   "metadata": {},
   "outputs": [
    {
     "data": {
      "text/plain": [
       "tensor([[-1.5701],\n",
       "        [-1.5701],\n",
       "        [-1.5701],\n",
       "        [-1.5701],\n",
       "        [-1.5701],\n",
       "        [-1.5701],\n",
       "        [-1.5701],\n",
       "        [-1.5701],\n",
       "        [-1.5701],\n",
       "        [-1.5701]], grad_fn=<AddmmBackward0>)"
      ]
     },
     "execution_count": 34,
     "metadata": {},
     "output_type": "execute_result"
    }
   ],
   "source": [
    "#model on batch of input\n",
    "x = torch.ones(10, 1)\n",
    "linear_model (x)\n"
   ]
  },
  {
   "cell_type": "markdown",
   "metadata": {},
   "source": [
    "This call recurses into submodules defined in the module’s init constructor and\n",
    "returns a flat list of all parameters encountered, so that we can conveniently pass it to\n",
    "the optimizer constructor as we did previously. Optimizer replaces params."
   ]
  },
  {
   "cell_type": "code",
   "execution_count": 5,
   "metadata": {},
   "outputs": [
    {
     "name": "stdout",
     "output_type": "stream",
     "text": [
      "list of parameters: \n",
      " [Parameter containing:\n",
      "tensor([[-0.0444]], requires_grad=True), Parameter containing:\n",
      "tensor([-0.6021], requires_grad=True)]\n"
     ]
    }
   ],
   "source": [
    "print(\"list of parameters: \\n\", list(linear_model.parameters()))\n",
    "optimizer = optim.SGD(linear_model.parameters(),lr=1e-2)"
   ]
  },
  {
   "cell_type": "code",
   "execution_count": 11,
   "metadata": {},
   "outputs": [],
   "source": [
    "def training_loop(n_epochs, optimizer, model, loss_fn, t_u_train, t_u_val,t_c_train, t_c_val):\n",
    "    for epoch in range(1, n_epochs + 1):\n",
    "        t_p_train = model(t_u_train)\n",
    "        loss_train = loss_fn(t_p_train, t_c_train)\n",
    "        t_p_val = model(t_u_val)\n",
    "        loss_val = loss_fn(t_p_val, t_c_val)\n",
    "        optimizer.zero_grad()\n",
    "        loss_train.backward()\n",
    "        optimizer.step()\n",
    "        if epoch == 1 or epoch % 1000 == 0:\n",
    "            print(f\"Epoch {epoch}, Training loss {loss_train.item():.4f},\"f\" Validation loss {loss_val.item():.4f}\")"
   ]
  },
  {
   "cell_type": "code",
   "execution_count": 12,
   "metadata": {},
   "outputs": [
    {
     "name": "stdout",
     "output_type": "stream",
     "text": [
      "Epoch 1, Training loss 190.7808, Validation loss 278.8260\n",
      "Epoch 1000, Training loss 190.7808, Validation loss 278.8260\n",
      "Epoch 2000, Training loss 190.7808, Validation loss 278.8260\n",
      "Epoch 3000, Training loss 190.7808, Validation loss 278.8260\n",
      "\n",
      "Parameter containing:\n",
      "tensor([[-0.0444]], requires_grad=True)\n",
      "Parameter containing:\n",
      "tensor([-0.6021], requires_grad=True)\n"
     ]
    }
   ],
   "source": [
    "training_loop( \n",
    "    n_epochs = 3000,\n",
    "    optimizer = optimizer,\n",
    "    model = linear_model,\n",
    "    loss_fn = nn.MSELoss(),\n",
    "    t_u_train = t_un_train,\n",
    "    t_u_val = t_un_val,\n",
    "    t_c_train = t_c_train,\n",
    "    t_c_val = t_c_val )\n",
    "\n",
    "print()\n",
    "print(linear_model.weight)\n",
    "print(linear_model.bias)"
   ]
  },
  {
   "cell_type": "markdown",
   "metadata": {},
   "source": [
    "<h3> A neural network that replaces linear model is called sequential neural network model</h3>\n",
    "The first linear + activation layer is commonly referred to as a hidden layer for historical reasons, since its outputs\n",
    "are not observed directly but fed into the output layer. The last linear layer will\n",
    "take the output of activations and combine them linearly to produce the output value. \n",
    "As you can see here we have linear models. the only difference is that <span style='background-color:#FFFF00;'> activation function </span> is added in between.\n"
   ]
  },
  {
   "cell_type": "code",
   "execution_count": 13,
   "metadata": {},
   "outputs": [
    {
     "name": "stdout",
     "output_type": "stream",
     "text": [
      "hidden_linear.weight torch.Size([8, 1])\n",
      "hidden_linear.bias torch.Size([8])\n",
      "output_linear.weight torch.Size([1, 8])\n",
      "output_linear.bias torch.Size([1])\n",
      "\n",
      "bias of seq model Parameter containing:\n",
      "tensor([0.1235], requires_grad=True)\n"
     ]
    }
   ],
   "source": [
    "seq_model = nn.Sequential( \n",
    "    nn.Linear(1, 13),\n",
    "    nn.Tanh(),\n",
    "    nn.Linear(13, 1))\n",
    "\n",
    "seq_model = nn.Sequential(OrderedDict([\n",
    "    ('hidden_linear', nn.Linear(1, 8)),\n",
    "    ('hidden_activation', nn.Tanh()),\n",
    "    ('output_linear', nn.Linear(8, 1))\n",
    "    ]))\n",
    "\n",
    "for name, param in seq_model.named_parameters():\n",
    "    print(name, param.shape)\n",
    "\n",
    "print()\n",
    "print(\"bias of seq model\", seq_model.output_linear.bias)"
   ]
  },
  {
   "cell_type": "code",
   "execution_count": 14,
   "metadata": {},
   "outputs": [
    {
     "name": "stdout",
     "output_type": "stream",
     "text": [
      "Epoch 1, Training loss 175.5862, Validation loss 256.2816\n",
      "Epoch 1000, Training loss 6.3812, Validation loss 3.2469\n",
      "Epoch 2000, Training loss 4.7872, Validation loss 0.9755\n",
      "Epoch 3000, Training loss 2.9010, Validation loss 0.1729\n",
      "Epoch 4000, Training loss 2.3295, Validation loss 0.0184\n",
      "Epoch 5000, Training loss 2.2161, Validation loss 0.0552\n",
      "output:  tensor([[ 7.4488],\n",
      "        [20.4543]], grad_fn=<AddmmBackward0>)\n",
      "answer:  tensor([[ 8.],\n",
      "        [21.]])\n",
      "hidden:  tensor([[ 0.0136],\n",
      "        [-4.4672],\n",
      "        [ 0.0111],\n",
      "        [-0.2378],\n",
      "        [-3.5705],\n",
      "        [ 0.1985],\n",
      "        [ 4.5836],\n",
      "        [ 4.1576]])\n"
     ]
    }
   ],
   "source": [
    "optimizer = optim.SGD(seq_model.parameters(), lr=1e-3)\n",
    "\n",
    "training_loop(\n",
    "    n_epochs = 5000,\n",
    "    optimizer = optimizer,\n",
    "    model = seq_model,\n",
    "    loss_fn = nn.MSELoss(),\n",
    "    t_u_train = t_un_train,\n",
    "    t_u_val = t_un_val,\n",
    "    t_c_train = t_c_train,\n",
    "    t_c_val = t_c_val)\n",
    "\n",
    "print('output: ', seq_model(t_un_val))\n",
    "print('answer: ', t_c_val)\n",
    "print('hidden: ', seq_model.hidden_linear.weight.grad)"
   ]
  },
  {
   "cell_type": "markdown",
   "metadata": {},
   "source": [
    "## Comparing sequential NN model to Linear NN model ## "
   ]
  },
  {
   "cell_type": "code",
   "execution_count": 15,
   "metadata": {},
   "outputs": [
    {
     "data": {
      "text/plain": [
       "[<matplotlib.lines.Line2D at 0x7fd14b8c3908>]"
      ]
     },
     "execution_count": 15,
     "metadata": {},
     "output_type": "execute_result"
    },
    {
     "data": {
      "image/png": "[encoded data removed]",
      "text/plain": [
       "<Figure size 600x400 with 1 Axes>"
      ]
     },
     "metadata": {
      "needs_background": "light"
     },
     "output_type": "display_data"
    }
   ],
   "source": [
    "\n",
    "#detach and numpy are needed to extract output in list of float format \n",
    "\n",
    "t_range=torch.arange(20.,90.).unsqueeze(1)\n",
    "fig=plt.figure(dpi=100)\n",
    "\n",
    "plt.xlabel(\"Fahrenheit\")\n",
    "plt.ylabel(\"Celsius\")\n",
    "plt.plot(t_u.numpy(),t_c.numpy(),'o')\n",
    "plt.plot(t_range.numpy(),seq_model(0.1*t_range).detach().numpy(),'c-')\n",
    "plt.plot(t_u.numpy(),linear_model(0.1*t_u).detach().numpy(),'rp')\n",
    "plt.plot(t_u.numpy(),seq_model(0.1*t_u).detach().numpy(),'bx')"
   ]
  },
  {
   "cell_type": "code",
   "execution_count": null,
   "metadata": {},
   "outputs": [],
   "source": [
    "The input data are circles. The continuous line shows behavior of samples.\n",
    "Neural network models outpus are Xs.\n",
    "Linear models output are reds."
   ]
  },
  {
   "cell_type": "markdown",
   "metadata": {},
   "source": [
    "<h2> Review of chapter 6: </h2>\n",
    "<ul>\n",
    "<li>The chapter starts by introducing the concept of overfitting and underfitting. It explains how overfitting occurs when a model is too complex and captures noise in the data, while underfitting occurs when a model is too simple and cannot capture the underlying patterns in the data.</li>\n",
    "\n",
    "<li>The chapter then moves on to explain how to design a neural network architecture using PyTorch. It covers how to define the architecture of a neural network by creating a subclass of the nn.Module class in PyTorch. The author explains how to define the layers of the neural network and how to pass data through the network.</li>\n",
    "\n",
    "<li>Next, the chapter explains how to train a neural network using PyTorch. It covers the use of loss functions, optimizers, and the process of backpropagation. The author also provides practical tips for hyperparameter tuning and preventing overfitting, such as regularization techniques.</li>\n",
    "\n",
    "<li>The chapter also covers the importance of evaluating a models performance using validation and test datasets. The author explains how to use the evaluation metrics to measure the accuracy of a model and how to interpret the results.</li>\n",
    "\n",
    "<li> Finally, the chapter provides an example of using a neural network to fit a dataset of images. The author walks through the steps of defining the architecture, training the model, and evaluating its performance.</li>\n",
    "</ul> \n",
    "Overall, this chapter provides a comprehensive guide to using PyTorch to design and train neural networks to fit data, including techniques for preventing overfitting and evaluating model performance."
   ]
  }
 ],
 "metadata": {
  "kernelspec": {
   "display_name": "Python 3",
   "language": "python",
   "name": "python3"
  },
  "language_info": {
   "codemirror_mode": {
    "name": "ipython",
    "version": 3
   },
   "file_extension": ".py",
   "mimetype": "text/x-python",
   "name": "python",
   "nbconvert_exporter": "python",
   "pygments_lexer": "ipython3",
   "version": "3.7.2"
  }
 },
 "nbformat": 4,
 "nbformat_minor": 4
}
