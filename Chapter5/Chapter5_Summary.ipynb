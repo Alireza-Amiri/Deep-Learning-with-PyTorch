{
 "cells": [
  {
   "cell_type": "code",
   "execution_count": null,
   "metadata": {},
   "outputs": [],
   "source": [
    "#Refernce to these code is: https://github.com/deep-learning-with-pytorch/dlwpt-code"
   ]
  },
  {
   "cell_type": "code",
   "execution_count": 2,
   "metadata": {},
   "outputs": [],
   "source": [
    "import torch.nn as nn\n",
    "import torch\n",
    "from matplotlib import pyplot as plt\n",
    "%matplotlib inline\n",
    "import numpy as np\n",
    "import torch\n",
    "import torch.optim as optim\n",
    "from collections import OrderedDict"
   ]
  },
  {
   "cell_type": "markdown",
   "metadata": {},
   "source": [
    "<h2>Chapter 5: The mechanics of learning:</h2>\n",
    "    <ul>\n",
    "        <li>Learning is fitting data or making algorithm to learn from data </li>\n",
    "        <li>Fitting model involves a function with number of unknown parameters whose values are estimated from data. \n",
    "    That function in short is called <b> model </b> </li>\n",
    "        <li>Simple model in this chapter is defined as a model with bias and weight. \n",
    "        To optimize weights, a change in weight (gradient of error with respect to the parameters) is \n",
    "        computed using chain rule for derivative of composite function (backward pass) </li>\n",
    "    </ul>"
   ]
  },
  {
   "cell_type": "markdown",
   "metadata": {},
   "source": [
    "<h2>Overview:</h2>\n",
    "<ul>\n",
    "    <li> This chapter starts with explanation about how a model learns.</li>\n",
    "    <li> Explains that learning is actually just a parameter estimation which happens using differentiation and gradianet descent. </li>\n",
    "    <li> Simple learning algorithm which is called linear model, is explained. </li>\n",
    "    <li> Pytorch supports learning with autograd </li>\n",
    "</ul>"
   ]
  },
  {
   "cell_type": "markdown",
   "metadata": {},
   "source": [
    "<h3>Dataset:</h3>\n",
    "<ul>\n",
    "    <li> 11 datapoints are gathered by making note of temperature data in old celcius (t_c). \n",
    "    And measurement from new thermometer (t_u) </li>\n",
    "    <li><span style=\"color:Tomato;\"><b>Note:</b></span> Simple linear model is used here.</li>\n",
    "</ul>\n",
    "    "
   ]
  },
  {
   "cell_type": "markdown",
   "metadata": {},
   "source": [
    "###  Learning is just a parameter estimation ###\n",
    "\n",
    "In order to optimize the parameter of the model—its weights—the change in\n",
    "the error following a unit change in weights (that is, the gradient of the error with\n",
    "respect to the parameters) is computed using the chain rule for the derivative of a\n",
    "composite function (backward pass)."
   ]
  },
  {
   "cell_type": "markdown",
   "metadata": {},
   "source": [
    "### The steps to Fit the model to the input training instances are followed here: ###"
   ]
  },
  {
   "cell_type": "markdown",
   "metadata": {},
   "source": [
    "### Prepare input data ###"
   ]
  },
  {
   "cell_type": "markdown",
   "metadata": {},
   "source": [
    "We start by making a note of temperature data in good old Celsius and measurements(inputs) from our new thermometer (target), \n",
    "and figure things out."
   ]
  },
  {
   "cell_type": "code",
   "execution_count": 3,
   "metadata": {},
   "outputs": [],
   "source": [
    "# t_c are values in celsius\n",
    "# t_u are values in unknown unit\n",
    "\n",
    "t_c = [0.5,  14.0, 15.0, 28.0, 11.0,  8.0,  3.0, -4.0,  6.0, 13.0, 21.0]\n",
    "t_u = [35.7, 55.9, 58.2, 81.9, 56.3, 48.9, 33.9, 21.8, 48.4, 60.4, 68.4]\n",
    "\n",
    "t_c = torch.tensor(t_c)\n",
    "t_u = torch.tensor(t_u)"
   ]
  },
  {
   "cell_type": "markdown",
   "metadata": {},
   "source": [
    "### Prediction using simple model ###"
   ]
  },
  {
   "cell_type": "code",
   "execution_count": null,
   "metadata": {},
   "outputs": [],
   "source": [
    "Any model needs weight and bias. Weight and bias are two very common terms for linear\n",
    "scaling and the additive constant and will be used a lot. Here we defined weights to be 1 and bias 0 values. \n",
    "We are looking for making a model that makes <span style='background-color:#FFFF00;'> less loss </span>. \n",
    "Considering that here we have linear model, the loss as a function of w and b is also convex. \n",
    "In less complex model we are able to find global minima as explaind in this <a href='https://www.youtube.com/watch?v=JLk0ee_zuOM'>link</a>, \n",
    "however on more complex models such as neural network models finding gobal minima is not feasible \n",
    "and we end up finding optimal local minima.\n"
   ]
  },
  {
   "cell_type": "code",
   "execution_count": 4,
   "metadata": {},
   "outputs": [
    {
     "name": "stdout",
     "output_type": "stream",
     "text": [
      "predictions are : tensor([35.7000, 55.9000, 58.2000, 81.9000, 56.3000, 48.9000, 33.9000, 21.8000,\n",
      "        48.4000, 60.4000, 68.4000])\n",
      "loss is : tensor(1763.8848)\n"
     ]
    }
   ],
   "source": [
    "def model(t_u,w,b):\n",
    "    return w*t_u+b\n",
    "\n",
    "def loss_fn(t_p, t_c):\n",
    "    squared_diffs = (t_p - t_c)**2\n",
    "    return squared_diffs.mean()\n",
    "\n",
    "w=torch.ones(())\n",
    "b=torch.zeros(())\n",
    "\n",
    "t_p=model(t_u,w,b)\n",
    "\n",
    "print(\"predictions are :\",t_p)\n",
    "\n",
    "loss=loss_fn(t_p,t_c)\n",
    "print(\"loss is :\", loss)\n",
    "\n"
   ]
  },
  {
   "cell_type": "markdown",
   "metadata": {},
   "source": [
    "We are building a tensor of differences, taking their square element-wise,\n",
    "and finally producing a scalar loss function by averaging all of the elements in the resulting tensor. \n",
    "It is a <span style='background-color:#FFFF00;'> mean square loss </span>."
   ]
  },
  {
   "cell_type": "markdown",
   "metadata": {},
   "source": [
    "### Prepare model with Gradient descend loss and epochs ## "
   ]
  },
  {
   "cell_type": "markdown",
   "metadata": {},
   "source": [
    "We iteratively apply updates to parameters for a fixed number of iterations,or until w and b stop changing. \n",
    "Specfiically here, we use stochastic gradient descent to update parameters for a fixed number of epochs(iterations).\n",
    "In this <a href= 'https://machinelearningmastery.com/difference-between-a-batch-and-an-epoch/'>link</a> the difference between sample, \n",
    "batch and epoch is explained. In short, The batch size is a number of samples processed before the model is updated. \n",
    "The number of epochs is the number of complete passes through the training dataset."
   ]
  },
  {
   "cell_type": "code",
   "execution_count": 19,
   "metadata": {},
   "outputs": [],
   "source": [
    "delta=0.1\n",
    "\n",
    "loss_rate_of_change_w = (loss_fn(model(t_u, w + delta, b), t_c) -loss_fn(model(t_u, w - delta, b), t_c)) / (2.0 * delta)\n",
    "learning_rate=1e-2\n",
    "w = w - learning_rate * loss_rate_of_change_w\n",
    "loss_rate_of_change_b = (loss_fn(model(t_u, w, b + delta), t_c) - loss_fn(model(t_u, w, b - delta), t_c)) / (2.0 * delta)\n",
    "b = b - learning_rate * loss_rate_of_change_b\n",
    "\n",
    "def loss_fn(t_p, t_c):\n",
    "    squared_diffs = (t_p - t_c)**2\n",
    "    return squared_diffs.mean()\n",
    "\n",
    "def dloss_fn(t_p, t_c):\n",
    "    dsq_diffs = 2 * (t_p - t_c) / t_p.size(0)\n",
    "    return dsq_diffs\n",
    "\n",
    "def model(t_u, w, b):\n",
    "    return w * t_u + b\n",
    "\n",
    "def dmodel_dw(t_u,w,b):\n",
    "    return t_u\n",
    "\n",
    "def dmodel_db(t_u, w, b):\n",
    "    return 1.0\n",
    "\n",
    "def grad_fn(t_u, t_c, t_p, w, b):\n",
    "    dloss_dtp = dloss_fn(t_p, t_c)\n",
    "    dloss_dw = dloss_dtp * dmodel_dw(t_u, w, b)\n",
    "    dloss_db = dloss_dtp * dmodel_db(t_u, w, b)\n",
    "    return torch.stack([dloss_dw.sum(), dloss_db.sum()])\n",
    "\n",
    "def training_loop(n_epochs, learning_rate, params,t_u, t_c):\n",
    "    for epoch in range(1, n_epochs + 1):\n",
    "        w, b = params\n",
    "        t_p = model(t_u, w, b)\n",
    "        loss = loss_fn(t_p, t_c)\n",
    "        grad = grad_fn(t_u, t_c, t_p, w, b)\n",
    "        params = params - learning_rate * grad\n",
    "        print('Epoch %d, Loss %f' % (epoch, float(loss)))\n",
    "    return params\n"
   ]
  },
  {
   "cell_type": "markdown",
   "metadata": {},
   "source": [
    "### Fit the model on Normalized inputs ###"
   ]
  },
  {
   "cell_type": "markdown",
   "metadata": {},
   "source": [
    "If we train model with raw data, the gradients of weight and bias would be very large as they will be on different scales. \n",
    "As a result, learning rate that is large enough to meaningfully update one will be so large as to be unstable for the other.\n",
    "In order to reduce the range of input, we need to <span style='background-color:#FFFF00;'> normalize data </span>. \n",
    "Normaliization is an effective and easy way to improve model convergence. \n",
    "Model converges mean that the loss of learning goes to zero and data points exactly sit on line."
   ]
  },
  {
   "cell_type": "code",
   "execution_count": 28,
   "metadata": {},
   "outputs": [
    {
     "name": "stdout",
     "output_type": "stream",
     "text": [
      "Epoch 1, Loss 80.364342\n",
      "Epoch 2, Loss 79.752480\n",
      "Epoch 3, Loss 79.148026\n",
      "Epoch 4, Loss 78.550865\n",
      "Epoch 5, Loss 77.960899\n"
     ]
    },
    {
     "data": {
      "text/plain": [
       "tensor([1.0383, 0.0052])"
      ]
     },
     "execution_count": 28,
     "metadata": {},
     "output_type": "execute_result"
    }
   ],
   "source": [
    "#The learning rate is one of the things we typically change when training does not go as well as we would like.\n",
    "\n",
    "t_un = 0.1 * t_u\n",
    "\n",
    "training_loop (\n",
    "              n_epochs=5,\n",
    "              learning_rate=1e-4,\n",
    "              params=torch.tensor([1.0,0.0]),\n",
    "              t_u=t_un,t_c=t_c\n",
    "              )"
   ]
  },
  {
   "cell_type": "code",
   "execution_count": 29,
   "metadata": {},
   "outputs": [
    {
     "name": "stdout",
     "output_type": "stream",
     "text": [
      "Epoch 1, Loss 80.364342\n",
      "Epoch 2, Loss 37.574913\n",
      "Epoch 3, Loss 30.871077\n",
      "Epoch 4, Loss 29.756193\n",
      "Epoch 5, Loss 29.507153\n",
      "Epoch 6, Loss 29.392456\n",
      "Epoch 7, Loss 29.298828\n",
      "Epoch 8, Loss 29.208717\n",
      "Epoch 9, Loss 29.119415\n",
      "Epoch 10, Loss 29.030489\n"
     ]
    }
   ],
   "source": [
    "#Let’s run the loop for enough iterations to see the changes in params get small.\n",
    "\n",
    "params =  training_loop (\n",
    "                        n_epochs = 10,\n",
    "                        learning_rate = 1e-2,\n",
    "                        params = torch.tensor([1.0, 0.0]),\n",
    "                        t_u = t_un,\n",
    "                        t_c = t_c,\n",
    "                        );\n",
    "\n",
    "\n",
    "t_p=model(t_un,*params)"
   ]
  },
  {
   "cell_type": "code",
   "execution_count": null,
   "metadata": {},
   "outputs": [],
   "source": [
    "We trained on unknown units and made prediction. Circles are our input data (celcius) and line is our fitted model."
   ]
  },
  {
   "cell_type": "code",
   "execution_count": 27,
   "metadata": {},
   "outputs": [
    {
     "data": {
      "text/plain": [
       "[<matplotlib.lines.Line2D at 0x7fd0aab5c278>]"
      ]
     },
     "execution_count": 27,
     "metadata": {},
     "output_type": "execute_result"
    },
    {
     "data": {
      "image/png": "[encoded data removed]",
      "text/plain": [
       "<Figure size 600x400 with 1 Axes>"
      ]
     },
     "metadata": {
      "needs_background": "light"
     },
     "output_type": "display_data"
    }
   ],
   "source": [
    "%matplotlib inline\n",
    "fit=plt.figure(dpi=100)\n",
    "plt.xlabel(\"temperature (farenheight)\")\n",
    "plt.ylabel(\"termperature (celccius)\")\n",
    "plt.plot(t_u.numpy(),t_p.detach().numpy())\n",
    "plt.plot(t_u.numpy(),t_c.numpy(),'o' )"
   ]
  },
  {
   "cell_type": "markdown",
   "metadata": {},
   "source": [
    "### Pytorch Autograd ###"
   ]
  },
  {
   "cell_type": "markdown",
   "metadata": {},
   "source": [
    "PyTorch tensors can remember where they come from, in terms of the operations and\n",
    "parent tensors that originated them, and they can automatically provide the chain of\n",
    "derivatives of such operations with respect to their inputs. As a result, \n",
    "PyTorch will automatically provide the gradient of that expression with respect to its\n",
    "input parameters."
   ]
  },
  {
   "cell_type": "code",
   "execution_count": 14,
   "metadata": {},
   "outputs": [],
   "source": [
    "def training_loop(n_epochs, learning_rate, params, t_u, t_c):\n",
    "    for epoch in range(1, n_epochs + 1):\n",
    "        if params.grad is not None:\n",
    "            params.grad.zero_()\n",
    "        t_p = model(t_u, *params)\n",
    "        loss = loss_fn(t_p, t_c)\n",
    "        loss.backward()\n",
    "        with torch.no_grad():\n",
    "            params -= learning_rate * params.grad\n",
    "            \n",
    "        if epoch % 500 == 0:\n",
    "            print('Epoch %d, Loss %f' % (epoch, float(loss)))\n",
    "    return params"
   ]
  },
  {
   "cell_type": "code",
   "execution_count": 15,
   "metadata": {},
   "outputs": [
    {
     "name": "stdout",
     "output_type": "stream",
     "text": [
      "Epoch 500, Loss 7.860115\n",
      "Epoch 1000, Loss 3.828538\n",
      "Epoch 1500, Loss 3.092191\n",
      "Epoch 2000, Loss 2.957698\n",
      "Epoch 2500, Loss 2.933134\n",
      "Epoch 3000, Loss 2.928648\n",
      "Epoch 3500, Loss 2.927830\n",
      "Epoch 4000, Loss 2.927679\n",
      "Epoch 4500, Loss 2.927652\n",
      "Epoch 5000, Loss 2.927647\n"
     ]
    },
    {
     "data": {
      "text/plain": [
       "tensor([  5.3671, -17.3012], requires_grad=True)"
      ]
     },
     "execution_count": 15,
     "metadata": {},
     "output_type": "execute_result"
    }
   ],
   "source": [
    "# using requires_grad=True, the grad attribute of params contains the derivatives of the loss with respect to each element of params.\n",
    "\n",
    "params= training_loop (\n",
    "    n_epochs = 5000,\n",
    "    learning_rate = 1e-2,\n",
    "    params = torch.tensor([1.0, 0.0], requires_grad=True),\n",
    "    t_u = t_un,\n",
    "    t_c = t_c\n",
    "    );\n",
    "params"
   ]
  },
  {
   "cell_type": "markdown",
   "metadata": {},
   "source": [
    "### Optimizers ###"
   ]
  },
  {
   "cell_type": "markdown",
   "metadata": {},
   "source": [
    "PyTorch abstracts the optimization strategy away from user code:\n",
    "that is, the training loop we’ve examined. This saves us from the boilerplate busywork\n",
    "of having to update each and every parameter to our model ourselves. The torch\n",
    "module has an optim submodule where we can find classes implementing different\n",
    "optimization algorithms."
   ]
  },
  {
   "cell_type": "code",
   "execution_count": 16,
   "metadata": {},
   "outputs": [
    {
     "data": {
      "text/plain": [
       "['ASGD',\n",
       " 'Adadelta',\n",
       " 'Adagrad',\n",
       " 'Adam',\n",
       " 'AdamW',\n",
       " 'Adamax',\n",
       " 'LBFGS',\n",
       " 'NAdam',\n",
       " 'Optimizer',\n",
       " 'RAdam']"
      ]
     },
     "execution_count": 16,
     "metadata": {},
     "output_type": "execute_result"
    }
   ],
   "source": [
    "import torch.optim as optim\n",
    "\n",
    "dir(optim)[:10]"
   ]
  },
  {
   "cell_type": "markdown",
   "metadata": {},
   "source": [
    "SGD is one of the optimziers. It stands for stochastic gradient descent. Actually, the optimizer itself is exactly a\n",
    "vanilla gradient descent (as long as the momentum argument is set to 0.0, which is the\n",
    "default). The term stochastic comes from the fact that the gradient is typically obtained\n",
    "by averaging over a random subset of all input samples, called a minibatch."
   ]
  },
  {
   "cell_type": "markdown",
   "metadata": {},
   "source": [
    "### Split data into train,val, test set ###"
   ]
  },
  {
   "cell_type": "markdown",
   "metadata": {},
   "source": [
    "A highly adaptable model will tend to use its many parameters to make\n",
    "sure the loss is minimal at the data points, it is called overfitting. We will have no guarantee that the model\n",
    "behaves well away from or in between the data points. \n",
    "The first action we can take to combat overfitting is recognizing that it might happen.\n",
    "In order to do so, we must take a few data points\n",
    "out of our dataset (the validation set) and only fit our model on the remaining data\n",
    "points (the training set). \n",
    "\n",
    "<span style='background-color:#FFFF00;'> There are two rules to detect overfitting of model: </span>\n",
    "<ul>\n",
    "<li> 1. If training loss is not decreasing, the model is overfitting.</li>\n",
    "<li> 2. In model learning, if the training loss and the validation loss diverge, we’re overfitting.</li>\n",
    "</ul>\n",
    "\n",
    "<span style='background-color:#FFFF00;'> Cures for overfitting of model: </span>\n",
    "<ul>\n",
    "<li> Add penalization term to loss function to make it cheaper for model to behave more smoothly and change more slowly</li>\n",
    "<li> Add noise to the input samples, to artificially create new data\n",
    "points in between training data samples and force the model to try to fit those, too. </li>\n",
    "<li> Increase the size of nn until it fits and then scale it down until it stops overfitting. </li>\n",
    "</ul>"
   ]
  },
  {
   "cell_type": "code",
   "execution_count": 57,
   "metadata": {},
   "outputs": [],
   "source": [
    "n_samples = t_u.shape[0]\n",
    "n_val = int(0.2 * n_samples)\n",
    "\n",
    "shuffled_indices = torch.randperm(n_samples)\n",
    "train_indices = shuffled_indices[:-n_val]\n",
    "val_indices = shuffled_indices[-n_val:]\n",
    "\n",
    "train_t_u = t_u[train_indices]\n",
    "train_t_c = t_c[train_indices]\n",
    "val_t_u = t_u[val_indices]\n",
    "val_t_c = t_c[val_indices]\n",
    "\n",
    "train_t_un = 0.1 * train_t_u\n",
    "val_t_un = 0.1 * val_t_u\n",
    "\n",
    "\n",
    "def training_loop(n_epochs, optimizer,params, train_t_u,val_t_u,\n",
    "                  train_t_c,val_t_c):\n",
    "    for epoch in range(1,n_epochs+1):\n",
    "        train_t_p=model(train_t_u,*params)\n",
    "        train_loss=loss_fn(train_t_p,train_t_c)\n",
    "        \n",
    "        with torch.no_grad():\n",
    "            val_t_p=model(val_t_u,*params)\n",
    "            val_loss=loss_fn(val_t_p,val_t_c)\n",
    "            assert val_loss.requires_grad==False\n",
    "            \n",
    "        optimizer.zero_grad()\n",
    "        train_loss.backward()\n",
    "        optimizer.step() \n",
    "        \n",
    "        if epoch<=3 or epoch % 500==0:\n",
    "            print(f\"epoch {epoch},Training loss  {train_loss.item():.4f}\"\n",
    "            ,\n",
    "                 f\" validation loss {val_loss.item():.4f}\")\n",
    "    return params\n",
    "\n"
   ]
  },
  {
   "cell_type": "code",
   "execution_count": 58,
   "metadata": {},
   "outputs": [
    {
     "name": "stdout",
     "output_type": "stream",
     "text": [
      "epoch 1,Training loss  90.7754  validation loss 33.5146\n",
      "epoch 2,Training loss  33.7982  validation loss 34.4394\n",
      "epoch 3,Training loss  27.0283  validation loss 42.0913\n",
      "epoch 500,Training loss  9.4832  validation loss 10.2596\n",
      "epoch 1000,Training loss  4.6468  validation loss 2.7845\n",
      "epoch 1500,Training loss  3.2565  validation loss 2.4603\n",
      "epoch 2000,Training loss  2.8569  validation loss 3.3453\n",
      "epoch 2500,Training loss  2.7420  validation loss 4.1242\n",
      "epoch 3000,Training loss  2.7090  validation loss 4.6294\n"
     ]
    },
    {
     "data": {
      "text/plain": [
       "tensor([  5.5929, -18.4719], requires_grad=True)"
      ]
     },
     "execution_count": 58,
     "metadata": {},
     "output_type": "execute_result"
    }
   ],
   "source": [
    "params = torch.tensor([1.0, 0.0], requires_grad=True)\n",
    "learning_rate = 1e-2\n",
    "optimizer = optim.SGD([params], lr=learning_rate)\n",
    "\n",
    "training_loop (\n",
    "            n_epochs = 3000,\n",
    "            optimizer = optimizer,\n",
    "            params = params,\n",
    "            train_t_u = train_t_un,\n",
    "            val_t_u = val_t_un,\n",
    "            train_t_c = train_t_c,\n",
    "            val_t_c = val_t_c\n",
    "        )"
   ]
  },
  {
   "cell_type": "markdown",
   "metadata": {},
   "source": [
    "<h2> Review of Chapter 5 </h2>\n",
    "<ul>\n",
    "<li>This chapter covers the mechanics of training neural networks using backpropagation and stochastic gradient descent.</li>\n",
    "<li> The chapter starts by introducing the concept of loss functions, which measure the difference between the predicted output and the ground truth. \n",
    "The authors explain different types of loss functions and how to choose the appropriate one for a given task.</li>\n",
    "<li> The authors then introduce the backpropagation algorithm, which is used to compute the gradients of the loss function with respect to the parameters of the model. \n",
    "They explain how to implement backpropagation in PyTorch using automatic differentiation.</li>\n",
    "<li> Next, the chapter covers the concept of optimization algorithms, which are used to update the model parameters based on the computed gradients. \n",
    "The authors explain different optimization algorithms, such as stochastic gradient descent, Adam, and Adagrad, and provide examples of how to use them in PyTorch. </li>\n",
    "<li> The chapter then explains the concept of learning rate, which determines the step size in the parameter update process. \n",
    "The authors discuss different strategies for setting the learning rate, such as using a fixed learning rate, using a learning rate schedule, or using adaptive learning rates.</li>\n",
    "<li> Finally, the chapter covers the concept of regularization, which is used to prevent overfitting in neural networks. \n",
    "The authors explain different regularization techniques, such as L1 and L2 regularization, dropout, and early stopping.</li>\n",
    "</ul> \n",
    "Overall, Chapter 5 of \"Deep Learning with PyTorch\" provides a comprehensive introduction to the mechanics of training neural networks, making it a valuable resource for anyone interested in understanding the basics of deep learning.\n"
   ]
  }
 ],
 "metadata": {
  "kernelspec": {
   "display_name": "Python 3",
   "language": "python",
   "name": "python3"
  },
  "language_info": {
   "codemirror_mode": {
    "name": "ipython",
    "version": 3
   },
   "file_extension": ".py",
   "mimetype": "text/x-python",
   "name": "python",
   "nbconvert_exporter": "python",
   "pygments_lexer": "ipython3",
   "version": "3.7.2"
  }
 },
 "nbformat": 4,
 "nbformat_minor": 4
}
